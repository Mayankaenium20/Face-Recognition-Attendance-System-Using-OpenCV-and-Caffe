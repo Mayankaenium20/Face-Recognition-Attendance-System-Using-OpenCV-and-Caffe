{
 "cells": [
  {
   "cell_type": "code",
   "execution_count": 31,
   "metadata": {},
   "outputs": [],
   "source": [
    "import cv2\n",
    "import pickle\n",
    "import numpy as np\n",
    "import pandas as pd\n",
    "from tqdm import tqdm\n",
    "import os"
   ]
  },
  {
   "cell_type": "markdown",
   "metadata": {},
   "source": [
    "### paths"
   ]
  },
  {
   "cell_type": "code",
   "execution_count": 32,
   "metadata": {},
   "outputs": [],
   "source": [
    "image_folder = '/Volumes/This One Is Totally Infectious/PROJEKTS/FACE ATTENDANCE/Face Recognition using Caffe/dataset'\n",
    "output_file = 'embeddings.pkl'"
   ]
  },
  {
   "cell_type": "markdown",
   "metadata": {},
   "source": [
    "### Model paths and var initialisations"
   ]
  },
  {
   "cell_type": "code",
   "execution_count": 33,
   "metadata": {},
   "outputs": [],
   "source": [
    "face_detector = cv2.dnn.readNetFromCaffe(\n",
    "    '/Volumes/This One Is Totally Infectious/PROJEKTS/FACE ATTENDANCE/Face Recognition using Caffe/models/deploy.prototxt',\n",
    "    '/Volumes/This One Is Totally Infectious/PROJEKTS/FACE ATTENDANCE/Face Recognition using Caffe/models/res10_300x300_ssd_iter_140000.caffemodel'\n",
    ")\n",
    "\n",
    "face_recognizer = cv2.dnn.readNetFromTorch('/Volumes/This One Is Totally Infectious/PROJEKTS/FACE ATTENDANCE/Face Recognition using Caffe/models/openface.nn4.small2.v1.t7')"
   ]
  },
  {
   "cell_type": "markdown",
   "metadata": {},
   "source": [
    "### Face Detection"
   ]
  },
  {
   "cell_type": "code",
   "execution_count": 34,
   "metadata": {},
   "outputs": [],
   "source": [
    "def detect_faces(image, detector):\n",
    "    h, w = image.shape[:2]\n",
    "    blob = cv2.dnn.blobFromImage(image, 1.0, (300, 300), (104.0, 177.0, 123.0), False, False)\n",
    "    detector.setInput(blob)\n",
    "    detections = detector.forward()\n",
    "    faces = []\n",
    "    for i in range(detections.shape[2]):\n",
    "        confidence = detections[0, 0, i, 2]\n",
    "        if confidence > 0.5:  # Confidence threshold\n",
    "            box = detections[0, 0, i, 3:7] * np.array([w, h, w, h])\n",
    "            (startX, startY, endX, endY) = box.astype(int)\n",
    "            startX, startY, endX, endY = max(0, startX), max(0, startY), min(w-1, endX), min(h-1, endY)\n",
    "            if endX > startX and endY > startY:  # ensuring the box is non-empty\n",
    "                faces.append((startX, startY, endX, endY))\n",
    "    return faces\n"
   ]
  },
  {
   "cell_type": "markdown",
   "metadata": {},
   "source": [
    "### Feature Extraction"
   ]
  },
  {
   "cell_type": "code",
   "execution_count": 35,
   "metadata": {},
   "outputs": [],
   "source": [
    "def extract_features(face_image, recognizer):\n",
    "    if face_image.size == 0:\n",
    "        return None\n",
    "    blob = cv2.dnn.blobFromImage(face_image, 1.0 / 255, (96, 96), (0, 0, 0), True, False)\n",
    "    recognizer.setInput(blob)\n",
    "    return recognizer.forward()"
   ]
  },
  {
   "cell_type": "markdown",
   "metadata": {},
   "source": [
    "### Initialising lists and labels"
   ]
  },
  {
   "cell_type": "code",
   "execution_count": 36,
   "metadata": {},
   "outputs": [],
   "source": [
    "#embeddings: numerical vectors or features extracted from the img\n",
    "#labels: corresponding names in the form of labels.\n",
    "embeddings = []\n",
    "labels = []"
   ]
  },
  {
   "cell_type": "markdown",
   "metadata": {},
   "source": [
    "### Image Processing"
   ]
  },
  {
   "cell_type": "code",
   "execution_count": 38,
   "metadata": {},
   "outputs": [
    {
     "name": "stderr",
     "output_type": "stream",
     "text": [
      "Processing images: 100%|██████████| 7/7 [00:00<00:00, 14.42image/s]\n"
     ]
    }
   ],
   "source": [
    "total_images = len(os.listdir(\"/Volumes/This One Is Totally Infectious/PROJEKTS/FACE ATTENDANCE/Face Recognition using Caffe/dataset\"))\n",
    "\n",
    "with tqdm(total=total_images, desc=\"Processing images\", unit=\"image\") as pbar:\n",
    "    for image_name in os.listdir(image_folder):\n",
    "        image_path = os.path.join(image_folder, image_name)\n",
    "        image = cv2.imread(image_path)\n",
    "        if image is not None:\n",
    "            faces = detect_faces(image, face_detector)\n",
    "            for face in faces:\n",
    "                x, y, x2, y2 = face\n",
    "                face_img = image[y:y2, x:x2]\n",
    "                embedding = extract_features(face_img, face_recognizer)\n",
    "                if embedding is not None:\n",
    "                    embeddings.append(embedding.flatten())  # Flatten the embedding\n",
    "                    labels.append(os.path.splitext(image_name)[0])  # Use the filename (without extension) as the label\n",
    "        pbar.update(1)"
   ]
  },
  {
   "cell_type": "markdown",
   "metadata": {},
   "source": [
    "### Saving the embeddings and labels"
   ]
  },
  {
   "cell_type": "code",
   "execution_count": 39,
   "metadata": {},
   "outputs": [],
   "source": [
    "with open(output_file, 'wb') as f:\n",
    "    pickle.dump((embeddings, labels), f)"
   ]
  },
  {
   "cell_type": "code",
   "execution_count": null,
   "metadata": {},
   "outputs": [],
   "source": []
  }
 ],
 "metadata": {
  "kernelspec": {
   "display_name": "myenv",
   "language": "python",
   "name": "python3"
  },
  "language_info": {
   "codemirror_mode": {
    "name": "ipython",
    "version": 3
   },
   "file_extension": ".py",
   "mimetype": "text/x-python",
   "name": "python",
   "nbconvert_exporter": "python",
   "pygments_lexer": "ipython3",
   "version": "3.11.5"
  }
 },
 "nbformat": 4,
 "nbformat_minor": 2
}
